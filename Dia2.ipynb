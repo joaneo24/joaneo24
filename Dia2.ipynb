{
 "cells": [
  {
   "cell_type": "code",
   "execution_count": null,
   "metadata": {},
   "outputs": [],
   "source": [
    "mesos=['gener','febrer','març','abril','maig','juny','juliol'\n",
    "       ,'agost','setembre','octubre','novembre','desembre']\n",
    "#list(mesos)\n",
    "\n",
    "for m in mesos:\n",
    "    if m!=\"maig\":         print(m)\n",
    "print(\"Ja s'ha acabat\")\n"
   ]
  },
  {
   "cell_type": "code",
   "execution_count": null,
   "metadata": {},
   "outputs": [],
   "source": [
    "nums=[15,33,48,63,25,19,74,88]\n",
    "for i in nums: \n",
    "    if i>40: \n",
    "        print(i)\n",
    "print(\"Ja s'ha acabat\")"
   ]
  },
  {
   "cell_type": "code",
   "execution_count": null,
   "metadata": {},
   "outputs": [],
   "source": [
    "for m in mesos:\n",
    "    if len(m)==5:\n",
    "        print(m)"
   ]
  },
  {
   "cell_type": "code",
   "execution_count": null,
   "metadata": {},
   "outputs": [],
   "source": [
    "nu=5\n",
    "diamante=int(input(\"Dona'm un valor i et diré en quin quadrant està\"))\n",
    "if diamante < 0 or diamante > 100:\n",
    "    print(\"El nombre \", diamante, \" està fora de rang\")\n",
    "elif diamante<=25:\n",
    "    print(\"El nombre \", diamante , \"està comprès entre 0 i 25\")\n",
    "elif diamante<=50:\n",
    "    print(\"El nombre \", diamante , \"està comprès entre 25 i 50\")\n",
    "elif diamante<=75:\n",
    "    print(\"El nombre \", diamante , \"està comprès entre 50 i 75\")\n",
    "else:\n",
    "    print(\"El nombre \", diamante , \"està comprès entre 75 i 100\")\n"
   ]
  },
  {
   "cell_type": "code",
   "execution_count": null,
   "metadata": {},
   "outputs": [],
   "source": [
    "x=51\n",
    "match x:\n",
    "    case 5:\n",
    "        print(\"és un 5\")\n",
    "    case 10:\n",
    "        print(\"és un 10\")\n",
    "    case other:\n",
    "        print(\"un altre valor\")\n"
   ]
  },
  {
   "cell_type": "code",
   "execution_count": 68,
   "metadata": {},
   "outputs": [
    {
     "name": "stdout",
     "output_type": "stream",
     "text": [
      "HOLA JOAN\n",
      "hola joan\n",
      "Hola Josep\n",
      "['Hola', 'Joan']\n"
     ]
    }
   ],
   "source": [
    "paraula=\"Hola Joan\"\n",
    "print(paraula.upper())\n",
    "print(paraula.lower())\n",
    "print(paraula.replace(\"Joan\",\"Josep\"))\n",
    "print(paraula.split())\n"
   ]
  },
  {
   "cell_type": "code",
   "execution_count": null,
   "metadata": {},
   "outputs": [],
   "source": [
    "paraula=\"supercalifragilisticospialidoso\"\n",
    "for i in paraula:\n",
    "    if i!=\"a\":\n",
    "        print(i.upper())\n",
    "    else:\n",
    "        print(i)\n",
    "    "
   ]
  },
  {
   "cell_type": "code",
   "execution_count": null,
   "metadata": {},
   "outputs": [],
   "source": [
    "nums=[18,25,33,17,36,44,67]\n",
    "parcial=0\n",
    "for i in nums:\n",
    "    parcial=parcial+i\n",
    "    # parcial+=i és una altra opció\n",
    "    if parcial>120:\n",
    "        break\n",
    "    print(i)\n",
    "    "
   ]
  },
  {
   "cell_type": "code",
   "execution_count": null,
   "metadata": {},
   "outputs": [],
   "source": [
    "ciutats=[\"BARCELONA\",\"MURCIA\",\"TOLEDO\",\"BILBAO\",\"SALAMANCA\",\"TERUEL\",\"BURGOS\",\"MADRID\",\"TARRAGONA\"]\n",
    "for c in ciutats:\n",
    "    if len(c)!=6:\n",
    "        print(c.lower())\n",
    "    else:\n",
    "        print(c)"
   ]
  },
  {
   "cell_type": "code",
   "execution_count": 10,
   "metadata": {},
   "outputs": [
    {
     "name": "stdout",
     "output_type": "stream",
     "text": [
      "la primera paraula és el\n",
      "la segona paraula és viernes\n",
      "la tercera paraula és os\n",
      "la quarta paraula és quiero\n",
      "la cinquena paraula és ver\n",
      "la sisena paraula és aquí\n",
      "la setena paraula és a\n",
      "la octava paraula és todos\n",
      "la novena paraula és sé\n",
      "la desena paraula és dónde\n",
      "la onzena paraula és vivís\n"
     ]
    }
   ],
   "source": [
    "frase=\"el viernes os quiero ver aquí a todos, sé dónde vivís\"\n",
    "frase=frase.replace(\",\",\"\")\n",
    "frase1=frase.split()\n",
    "ordinals=[\"primera\",\"segona\",\"tercera\",\"quarta\",\"cinquena\",\"sisena\",\"setena\",\"octava\",\"novena\",\n",
    "          \"desena\",\"onzena\",\"dotzena\",\"tretzena\",\"catorzena\"]\n",
    "if len(ordinals)<len(frase1):\n",
    "    print(\"Declara més ordinals...\")\n",
    "else:\n",
    "    numparaula=0\n",
    "    for paraula in frase1:\n",
    "        print(\"la\", ordinals[numparaula], \"paraula és\", paraula)\n",
    "        numparaula+=1"
   ]
  }
 ],
 "metadata": {
  "kernelspec": {
   "display_name": "Python 3",
   "language": "python",
   "name": "python3"
  },
  "language_info": {
   "codemirror_mode": {
    "name": "ipython",
    "version": 3
   },
   "file_extension": ".py",
   "mimetype": "text/x-python",
   "name": "python",
   "nbconvert_exporter": "python",
   "pygments_lexer": "ipython3",
   "version": "3.13.0"
  }
 },
 "nbformat": 4,
 "nbformat_minor": 2
}
