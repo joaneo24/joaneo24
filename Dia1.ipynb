{
 "cells": [
  {
   "cell_type": "code",
   "execution_count": null,
   "metadata": {},
   "outputs": [],
   "source": [
    "setmana=[\"dilluns\",'dimarts','dimecres','divendres']\n",
    "\n",
    "setmana.append(\"dissabte\")\n",
    "setmana.append(\"diumenge\")\n",
    "setmana.insert(3,\"dijous\")\n",
    "setmana.append(\"divendres\")\n",
    "qtydivendres=setmana.count(\"divendres\")\n",
    "print(\"a esborrar \",setmana[7])\n",
    "del setmana[7]\n",
    "\n",
    "print(\"El número de vegades de divendres és: \",setmana.count(\"divendres\"), \". Abans eren: \",qtydivendres)\n",
    "list (setmana)\n",
    "#setmana\n",
    "\n",
    "for i in setmana:\n",
    "    print (i)"
   ]
  },
  {
   "cell_type": "code",
   "execution_count": null,
   "metadata": {},
   "outputs": [],
   "source": [
    "nombres=range(5)\n",
    "list (nombres)\n",
    "nombres2=range(10,30,3)\n",
    "print(list (nombres2))\n",
    "print(sum(nombres2))\n",
    "print(max(nombres2 )  )\n",
    "print(min(nombres2))"
   ]
  },
  {
   "cell_type": "code",
   "execution_count": null,
   "metadata": {},
   "outputs": [],
   "source": [
    "for i in range(10,16,2):\n",
    "    print(\"valor: \",i)\n",
    "print(\"final de procès\")\n",
    "\n",
    "#for i in range(0,len[setmana]):\n",
    "#    print (\"El dia \", i, \" és \", setmana[i])\n"
   ]
  },
  {
   "cell_type": "code",
   "execution_count": null,
   "metadata": {},
   "outputs": [],
   "source": [
    "elsmesos=['gener','febrer','març','abril','maig','juny','juliol',\n",
    "          'agost','setembre','octubre','novembre','desembre']\n",
    "numerals=['primer','segon','tercer','quart','cinquè', 'sisè',\n",
    "          'setè','octau','novè','desè','onzeau','dotzeau']\n",
    "for i in range(1,len(elsmesos)):\n",
    "    print(\"El \", numerals[i], \" mes és \", elsmesos[i])\n",
    "# també espodria haver fet for mes in elsmesos:"
   ]
  },
  {
   "cell_type": "code",
   "execution_count": null,
   "metadata": {},
   "outputs": [],
   "source": [
    "for lletra in \"Diumenge\":\n",
    "    print(lletra)"
   ]
  }
 ],
 "metadata": {
  "kernelspec": {
   "display_name": "Python 3",
   "language": "python",
   "name": "python3"
  },
  "language_info": {
   "codemirror_mode": {
    "name": "ipython",
    "version": 3
   },
   "file_extension": ".py",
   "mimetype": "text/x-python",
   "name": "python",
   "nbconvert_exporter": "python",
   "pygments_lexer": "ipython3",
   "version": "3.13.0"
  }
 },
 "nbformat": 4,
 "nbformat_minor": 2
}
