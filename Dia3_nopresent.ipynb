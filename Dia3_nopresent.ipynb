{
 "cells": [
  {
   "cell_type": "code",
   "execution_count": null,
   "metadata": {},
   "outputs": [],
   "source": [
    "# PRACTICA 1: CREAR UNA FUNCIÓN QUE SUME 12 A UN NUMERO Y LO DIVIDA ENTRE\n",
    "# 2 PERO QUE DEVUELVA UN TEXTO.\n",
    " \n",
    "def suma12div2(num):\n",
    "    num2=(float(num)+12)/2\n",
    "    return(str(num2))\n",
    "\n",
    "print(suma12div2(input(\"Introdueix un nombre\")))\n",
    "\n",
    "\n"
   ]
  },
  {
   "cell_type": "code",
   "execution_count": null,
   "metadata": {},
   "outputs": [],
   "source": [
    "# PRACTICA 2: CREAR UNA FUNCIÓN QUE PASANDOLE UN NUMERO ENTRE 1-12, ME\n",
    "# DEVUELVA EL NOMBRE DEL MES CORRESPONDIENTE...OJO SI NO ES ENTRE 1-12\n",
    "\n",
    "def elmes(num):\n",
    "    mesos=[\"Error\",\"Gener\",\"Febre\",\"Març\",\"Abril\",\"Maig\",\"Juny\",\"Julio\",\"Agost\",\"Setembre\",\"Octubre\",\"Novembre\",\"Desembre\"]\n",
    "    if num <= 0 or num >= 13:\n",
    "        n=0\n",
    "    else:\n",
    "        n=num\n",
    "    return mesos[n]\n",
    "\n",
    "print(elmes(int(input(\"introdueix el mes\"))))\n",
    "\n"
   ]
  },
  {
   "cell_type": "code",
   "execution_count": null,
   "metadata": {},
   "outputs": [],
   "source": [
    "# PRACTICA 3: CREAR UNA FUNCIÓN QUE NOS DEVUELVA EL AREA DE UN TRIANGULO\n",
    "\n",
    "def areatriangul(alt,ample):\n",
    "    return(alt*ample/2)\n",
    "\n",
    "h=float(input(\"Alçada triangle\"))\n",
    "a=float(input(\"Amplada base del triàngul\"))\n",
    "print(\"L'àrea és de\",areatriangul(h,a))\n"
   ]
  },
  {
   "cell_type": "code",
   "execution_count": null,
   "metadata": {},
   "outputs": [],
   "source": [
    "# PRACTICA 5: MEDIANTE UN BUCLE WHILE IMPRIMIR EL VALOR DE LA VARIABLE I\n",
    "# QUE INICIALMENTE VALDRA 3, Y SE INCREMENTERA DE 3 EN 3, SIEMPRE Y CUANDO\n",
    "# I SEA MENOR DE 50\n",
    "\n",
    "i=3\n",
    "while i<50:\n",
    "    print(i)\n",
    "    i+=3\n"
   ]
  },
  {
   "cell_type": "code",
   "execution_count": null,
   "metadata": {},
   "outputs": [
    {
     "name": "stdout",
     "output_type": "stream",
     "text": [
      "Dilluns 11/11/2024\n"
     ]
    }
   ],
   "source": [
    "# PRACTICA 6: Crear una función que pasandole por separado (a ser posible\n",
    "# con un input), el año, el mes y el dia, nos devuelva con un texto\n",
    "# el dia de la semana en letras y la fecha en formato mm/dd/yyyy\n",
    "\n",
    "from datetime import date\n",
    "\n",
    "def EscriuData(dia, mes, any):\n",
    "    diessetmana=[\"Dilluns\",\"Dimarts\",\"Dimecres\",\"Dijous\",\"Divendres\",\"Dissabte\",\"Diumenge\"]\n",
    "    ladata=date(any,mes,dia)\n",
    "    hola=ladata.strftime(\"%w\")\n",
    "    hola=diessetmana[int(hola)-1] + \" \" + ladata.strftime(\"%d\") + \"/\" + ladata.strftime(\"%m\") + \"/\" + ladata.strftime(\"%Y\")\n",
    "    return(hola)\n",
    "\n",
    "eldia=int(input(\"Escriu en xifres el dia\"))\n",
    "elmes=int(input(\"Escriu en xifres el mes\"))\n",
    "elany=int(input(\"Escriu en xifres l'any\"))\n",
    "print(EscriuData(eldia,elmes,elany))\n",
    "\n",
    "\n"
   ]
  },
  {
   "cell_type": "code",
   "execution_count": 34,
   "metadata": {},
   "outputs": [
    {
     "name": "stdout",
     "output_type": "stream",
     "text": [
      "Has tardat  6  en escriure-ho\n"
     ]
    }
   ],
   "source": [
    "# PRACTICA 7: Calcular los segundos transcurridos entre 2 ejecuciones de\n",
    "# bloque (Jupyter Notebook) por separado\n",
    "\n",
    "from datetime import datetime\n",
    "\n",
    "ara1=datetime.now() \n",
    "hola=input(\"escriu algo\")\n",
    "ara2=datetime.now()\n",
    "segons1=ara1.minute * 60 + ara1.second\n",
    "segons2=ara2.minute * 60 + ara2.second \n",
    "\n",
    "print(\"Has tardat \", segons2-segons1, \" en escriure-ho\")"
   ]
  }
 ],
 "metadata": {
  "kernelspec": {
   "display_name": "Python 3",
   "language": "python",
   "name": "python3"
  },
  "language_info": {
   "codemirror_mode": {
    "name": "ipython",
    "version": 3
   },
   "file_extension": ".py",
   "mimetype": "text/x-python",
   "name": "python",
   "nbconvert_exporter": "python",
   "pygments_lexer": "ipython3",
   "version": "3.13.0"
  }
 },
 "nbformat": 4,
 "nbformat_minor": 2
}
